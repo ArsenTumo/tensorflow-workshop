{
 "cells": [
  {
   "cell_type": "code",
   "execution_count": 2,
   "metadata": {
    "collapsed": false,
    "deletable": true,
    "editable": true
   },
   "outputs": [
    {
     "name": "stdout",
     "output_type": "stream",
     "text": [
      "== numpy float32 ==\n",
      "7.2\n",
      "z_numpy_32 = 7.200000\n",
      "z_numpy_32 = 7.1999998093\n",
      "\n",
      "== tensorflow float32 ==\n",
      "7.2\n",
      "z32_value = 7.200000\n",
      "z32_value = 7.1999998093\n",
      "\n",
      "== tensorflow float64 ==\n",
      "7.2\n",
      "z64_value = 7.200000\n",
      "z64_value = 7.2000000000\n",
      "\n",
      "== without print ==\n"
     ]
    },
    {
     "data": {
      "text/plain": [
       "7.1999998"
      ]
     },
     "execution_count": 2,
     "metadata": {},
     "output_type": "execute_result"
    }
   ],
   "source": [
    "import tensorflow as tf\n",
    "import numpy as np\n",
    "\n",
    "x_numpy_32 = np.float32(2.0)\n",
    "y_numpy_32 = np.float32(3.6)\n",
    "z_numpy_32 = x_numpy_32 * y_numpy_32\n",
    "\n",
    "print('== numpy float32 ==')\n",
    "print(z_numpy_32)\n",
    "print('z_numpy_32 = %f' % z_numpy_32)\n",
    "print('z_numpy_32 = %.10f\\n' % z_numpy_32)\n",
    "\n",
    "x32 = tf.constant(2.0, dtype=tf.float32)\n",
    "y32 = tf.constant(3.6, dtype=tf.float32)\n",
    "z32 = tf.multiply(x32, y32)\n",
    "\n",
    "x64 = tf.constant(2.0, dtype=tf.float64)\n",
    "y64 = tf.constant(3.6, dtype=tf.float64)\n",
    "z64 = tf.multiply(x64, y64)\n",
    "\n",
    "sess = tf.Session()\n",
    "\n",
    "z32_value = sess.run(z32)\n",
    "print('== tensorflow float32 ==')\n",
    "print(z32_value)\n",
    "print('z32_value = %f' % z32_value)\n",
    "print('z32_value = %.10f\\n' % z32_value)\n",
    "\n",
    "z64_value = sess.run(z64)\n",
    "print('== tensorflow float64 ==')\n",
    "print(z64_value)\n",
    "print('z64_value = %f' % z64_value)\n",
    "print('z64_value = %.10f\\n' % z64_value)\n",
    "\n",
    "print('== without print ==')\n",
    "sess.run(z32)"
   ]
  },
  {
   "cell_type": "code",
   "execution_count": null,
   "metadata": {
    "collapsed": true,
    "deletable": true,
    "editable": true
   },
   "outputs": [],
   "source": []
  },
  {
   "cell_type": "code",
   "execution_count": null,
   "metadata": {
    "collapsed": true,
    "deletable": true,
    "editable": true
   },
   "outputs": [],
   "source": []
  }
 ],
 "metadata": {
  "kernelspec": {
   "display_name": "Python 3",
   "language": "python",
   "name": "python3"
  },
  "language_info": {
   "codemirror_mode": {
    "name": "ipython",
    "version": 3
   },
   "file_extension": ".py",
   "mimetype": "text/x-python",
   "name": "python",
   "nbconvert_exporter": "python",
   "pygments_lexer": "ipython3",
   "version": "3.4.3"
  }
 },
 "nbformat": 4,
 "nbformat_minor": 2
}
