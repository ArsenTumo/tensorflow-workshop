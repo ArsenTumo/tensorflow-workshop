{
 "cells": [
  {
   "cell_type": "code",
   "execution_count": null,
   "metadata": {
    "collapsed": false,
    "deletable": true,
    "editable": true
   },
   "outputs": [],
   "source": [
    "import tensorflow as tf\n",
    "\n",
    "# Works!\n",
    "with tf.Graph().as_default():\n",
    "    with tf.Session() as sess:\n",
    "        x = tf.constant(1)\n",
    "        print(sess.run(x))\n",
    "        \n",
    "# If we flip the 'with' lines, there's an error.\n",
    "# That's because sess is initialized with default\n",
    "# graph, but we add the constant operation to a\n",
    "# custom graph. Uncomment the block below to see\n",
    "# the error.\n",
    "\n",
    "# with tf.Session() as sess:\n",
    "#     with tf.Graph().as_default():\n",
    "#         x = tf.constant(1)\n",
    "#         print(sess.run(x))"
   ]
  },
  {
   "cell_type": "code",
   "execution_count": null,
   "metadata": {
    "collapsed": true,
    "deletable": true,
    "editable": true
   },
   "outputs": [],
   "source": []
  }
 ],
 "metadata": {
  "kernelspec": {
   "display_name": "Python 3",
   "language": "python",
   "name": "python3"
  },
  "language_info": {
   "codemirror_mode": {
    "name": "ipython",
    "version": 3
   },
   "file_extension": ".py",
   "mimetype": "text/x-python",
   "name": "python",
   "nbconvert_exporter": "python",
   "pygments_lexer": "ipython3",
   "version": "3.4.3"
  }
 },
 "nbformat": 4,
 "nbformat_minor": 2
}
