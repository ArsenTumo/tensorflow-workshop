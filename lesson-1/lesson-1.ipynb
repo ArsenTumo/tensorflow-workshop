{
 "cells": [
  {
   "cell_type": "code",
   "execution_count": null,
   "metadata": {
    "collapsed": false,
    "deletable": true,
    "editable": true
   },
   "outputs": [],
   "source": [
    "# exercise 1\n",
    "\n",
    "import tensorflow as tf\n",
    "\n",
    "with tf.Session() as sess:\n",
    "    hello = tf.constant(\"Hello, TensorFlow!\")\n",
    "    print(sess.run(hello))\n",
    "    "
   ]
  },
  {
   "cell_type": "code",
   "execution_count": null,
   "metadata": {
    "collapsed": false,
    "deletable": true,
    "editable": true
   },
   "outputs": [],
   "source": [
    "# exercise 2\n",
    "\n",
    "x = tf.constant(2)\n",
    "y = tf.constant(3)\n",
    "z = x * y\n",
    "zz = tf.multiply(x,y, name='tf_z')\n",
    "\n",
    "print(x)\n",
    "print(y)\n",
    "print(z)\n",
    "\n",
    "with tf.Session() as sess:\n",
    "    print(sess.run(z))\n",
    "    print(sess.run(zz))\n",
    "    "
   ]
  },
  {
   "cell_type": "code",
   "execution_count": null,
   "metadata": {
    "collapsed": false,
    "deletable": true,
    "editable": true
   },
   "outputs": [],
   "source": [
    "# exercise 3\n",
    "\n",
    "graph = tf.get_default_graph()\n",
    "    \n",
    "for op in graph.get_operations():\n",
    "    print(op.name)\n",
    "#     print(op)\n",
    "    \n",
    "op = tf.constant('new_op', name='new_op')\n",
    "len(graph.get_operations())\n",
    "len(tf.get_default_graph().get_operations())"
   ]
  },
  {
   "cell_type": "code",
   "execution_count": null,
   "metadata": {
    "collapsed": true,
    "deletable": true,
    "editable": true
   },
   "outputs": [],
   "source": []
  },
  {
   "cell_type": "code",
   "execution_count": null,
   "metadata": {
    "collapsed": true,
    "deletable": true,
    "editable": true
   },
   "outputs": [],
   "source": []
  }
 ],
 "metadata": {
  "kernelspec": {
   "display_name": "Python 3",
   "language": "python",
   "name": "python3"
  },
  "language_info": {
   "codemirror_mode": {
    "name": "ipython",
    "version": 3
   },
   "file_extension": ".py",
   "mimetype": "text/x-python",
   "name": "python",
   "nbconvert_exporter": "python",
   "pygments_lexer": "ipython3",
   "version": "3.4.3"
  }
 },
 "nbformat": 4,
 "nbformat_minor": 2
}
