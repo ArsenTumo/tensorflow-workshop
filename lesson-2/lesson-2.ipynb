{
 "cells": [
  {
   "cell_type": "code",
   "execution_count": null,
   "metadata": {
    "collapsed": false,
    "deletable": true,
    "editable": true
   },
   "outputs": [],
   "source": [
    "# exercises 1 and 2\n",
    "\n",
    "import tensorflow as tf\n",
    "\n",
    "with tf.Graph().as_default() as graph:\n",
    "    # Define a simple single-example, single-neuron case.\n",
    "    input = tf.constant(3.6)\n",
    "    weight = tf.Variable(2.0)\n",
    "\n",
    "    # Define the inference model. We will use this for\n",
    "    # predict output based on input.\n",
    "    output = input * weight\n",
    "\n",
    "    summary_writer = tf.summary.FileWriter('simple_neuron')\n",
    "    summary_writer.add_graph(graph)\n",
    "\n",
    "    with tf.Session() as sess:\n",
    "        sess.run(tf.global_variables_initializer())\n",
    "        print(sess.run(output))"
   ]
  },
  {
   "cell_type": "code",
   "execution_count": null,
   "metadata": {
    "collapsed": false,
    "deletable": true,
    "editable": true
   },
   "outputs": [],
   "source": [
    "# exercises 3 and 4\n",
    "\n",
    "import tensorflow as tf\n",
    "\n",
    "with tf.Graph().as_default() as graph:\n",
    "    # Define a simple single-example, single-neuron case.\n",
    "    input = tf.constant(3.6)\n",
    "    weight = tf.Variable(2.0)\n",
    "\n",
    "    # Define the inference model. We will use this for\n",
    "    # predict output based on input.\n",
    "    output = input * weight\n",
    "\n",
    "    # Define the actual output and the loss.\n",
    "    output_ = tf.constant(10.0)\n",
    "    loss = (output - output_)**2\n",
    "\n",
    "    # Create the gradient descent object and operation.\n",
    "    optimizer = tf.train.GradientDescentOptimizer(learning_rate=0.025)\n",
    "    train_step = optimizer.minimize(loss)\n",
    "\n",
    "    with tf.Session() as sess:\n",
    "        # Initialize variables.\n",
    "        sess.run(tf.global_variables_initializer())\n",
    "\n",
    "        # Let's prepare the summary operations so that we can plot the\n",
    "        # progression of the weights and output.\n",
    "        summary_y = tf.summary.scalar('output', output)\n",
    "        summary_w = tf.summary.scalar('weight', weight)\n",
    "\n",
    "        # Set up the summary file writer. The argument we pass to FileWriter\n",
    "        # is the name of the directory to which the events file will be\n",
    "        # written.\n",
    "        summary_writer = tf.summary.FileWriter('trivial_neuron_summary')\n",
    "        summary_writer.add_graph(graph)\n",
    "\n",
    "        # Run the training step in a loop (10 times). Print the result after\n",
    "        # each step.\n",
    "        for i in range(20):\n",
    "            # Record the output for this iteration.\n",
    "            summary_writer.add_summary(sess.run(summary_y), i)\n",
    "\n",
    "            # Record the weight for this iteration.\n",
    "            summary_writer.add_summary(sess.run(summary_w), i)\n",
    "            \n",
    "            # Run the training step.\n",
    "            sess.run(train_step)            \n",
    "\n",
    "            # Print the value of weight and output after this step.\n",
    "            print('after step {}'.format(i))\n",
    "            print('\\tweight is {}'.format(sess.run(weight)))\n",
    "            print('\\toutput is {}'.format(sess.run(output)))\n",
    "\n",
    "        # Make sure to close the summary writer. This will flush the summaries\n",
    "        # to the output file and close the file.\n",
    "        summary_writer.close()\n",
    "\n",
    "        # Verify that weight and output are what we expect (or close to it).\n",
    "        sess.run(weight)\n",
    "        sess.run(output)\n"
   ]
  },
  {
   "cell_type": "code",
   "execution_count": null,
   "metadata": {
    "collapsed": true,
    "deletable": true,
    "editable": true
   },
   "outputs": [],
   "source": []
  }
 ],
 "metadata": {
  "kernelspec": {
   "display_name": "Python 3",
   "language": "python",
   "name": "python3"
  },
  "language_info": {
   "codemirror_mode": {
    "name": "ipython",
    "version": 3
   },
   "file_extension": ".py",
   "mimetype": "text/x-python",
   "name": "python",
   "nbconvert_exporter": "python",
   "pygments_lexer": "ipython3",
   "version": "3.4.3"
  }
 },
 "nbformat": 4,
 "nbformat_minor": 2
}
